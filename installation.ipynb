{
 "cells": [
  {
   "cell_type": "markdown",
   "metadata": {},
   "source": [
    "# 1. Installing `spaceranger`\n",
    "\n",
    "* For detailed instructions: https://support.10xgenomics.com/spatial-gene-expression/software/pipelines/latest/installation\n",
    "\n",
    "**System requirements**\n",
    "\n",
    "```\n",
    "# Space Ranger pipelines run on Linux systems that meet these minimum requirements:\n",
    "# \n",
    "# 8-core Intel or AMD processor (32 cores recommended)\n",
    "# 64GB RAM (128GB recommended)\n",
    "# 1TB free disk space\n",
    "# 64-bit CentOS/RedHat 6.0 or Ubuntu 12.04\n",
    "# Note: Version 1.3 is the last version that will support CentOS/RedHat 6 or \n",
    "#       Ubuntu 12.04. Future versions will require CentOS/RedHat 7 or newer, or \n",
    "#       Ubuntu 14.04 or newer.\n",
    "```"
   ]
  },
  {
   "cell_type": "code",
   "execution_count": null,
   "metadata": {
    "scrolled": true
   },
   "outputs": [],
   "source": [
    "%%bash\n",
    "\n",
    "LOCALSOURCE=$(~/data/source_files)\n",
    "LOCALBIN=$(~/data/local)\n",
    "\n",
    "# Below two lines assume that directories don't exist\n",
    "mkdir $LOCALSOURCE # Make a directory to store .tar.gz file\n",
    "mkdir $LOCALBIN # Make a directory to store locally installed packages/softwares\n",
    "\n",
    "# Always get an updated download link from below:\n",
    "# https://support.10xgenomics.com/spatial-gene-expression/software/downloads/latest\n",
    "wget -O $LOCALSOURCE/spaceranger-1.3.1.tar.gz \"https://cf.10xgenomics.com/releases/spatial-exp/spaceranger-1.3.1.tar.gz?Expires=1649214425&Policy=eyJTdGF0ZW1lbnQiOlt7IlJlc291cmNlIjoiaHR0cHM6Ly9jZi4xMHhnZW5vbWljcy5jb20vcmVsZWFzZXMvc3BhdGlhbC1leHAvc3BhY2VyYW5nZXItMS4zLjEudGFyLmd6IiwiQ29uZGl0aW9uIjp7IkRhdGVMZXNzVGhhbiI6eyJBV1M6RXBvY2hUaW1lIjoxNjQ5MjE0NDI1fX19XX0_&Signature=okfVjpy~mx1NuUK0hY~~ttQ-nu3t1QDPJYPKfQ9Khw2de7HJOrDEk37B0eUW5HmxzfpX639mG-qOrBZRY3rqqNfW5-wuXXyXnq~pbiurN2rCN21PDdLxeK9iNwvitPzmcCnlyfoKNaXV6koK1pyUwAm2fOFhyj9hjXwZhae8AyghKJy8MlF062MJ7UKibYN4qPZoCXDN5PwiSVxWVvR14DpxgP1z~i6qhbmllk5N7SDoxeSN8XLyH7PfMVBahDJomhTKOLNJrEe-C80KvjrOwvV4V5j9J~mVXtCko6aiStjstgpDT8bO8Hr0XfK1~XEfHYapFnda1YiD2UMxqSJK5g__&Key-Pair-Id=APKAI7S6A5RYOXBWRPDA\"\n",
    "\n",
    "# Extract the downloadded .tar.gz file to LOCALBIN\n",
    "tar -xzvf $LOCALSOURCE/spaceranger-1.3.1.tar.gz -C $LOCALBIN\n",
    "\n",
    "# Add below spaceranger path to PATH\n",
    "export PATH=$LOCALBIN/spaceranger-1.3.1:$PATH\n",
    "\n",
    "# Verify installation\n",
    "spaceranger testrun --id=tiny"
   ]
  },
  {
   "cell_type": "markdown",
   "metadata": {},
   "source": [
    "# 2. Downloading dependencies"
   ]
  },
  {
   "cell_type": "markdown",
   "metadata": {},
   "source": [
    "TBA"
   ]
  }
 ],
 "metadata": {
  "kernelspec": {
   "display_name": "Python 3",
   "language": "python",
   "name": "python3"
  },
  "language_info": {
   "codemirror_mode": {
    "name": "ipython",
    "version": 3
   },
   "file_extension": ".py",
   "mimetype": "text/x-python",
   "name": "python",
   "nbconvert_exporter": "python",
   "pygments_lexer": "ipython3",
   "version": "3.7.10"
  }
 },
 "nbformat": 4,
 "nbformat_minor": 4
}
