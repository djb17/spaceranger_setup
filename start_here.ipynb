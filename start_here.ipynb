{
 "cells": [
  {
   "cell_type": "markdown",
   "metadata": {
    "tags": []
   },
   "source": [
    "# 1. Installing `spaceranger`\n",
    "\n",
    "* For detailed instructions: https://support.10xgenomics.com/spatial-gene-expression/software/pipelines/latest/installation\n",
    "\n",
    "**System requirements**\n",
    "\n",
    "```\n",
    "Space Ranger pipelines run on Linux systems that meet these minimum requirements:\n",
    "\n",
    "- 8-core Intel or AMD processor (32 cores recommended)\n",
    "- 64GB RAM (128GB recommended)\n",
    "- 1TB free disk space\n",
    "- 64-bit CentOS/RedHat 6.0 or Ubuntu 12.04\n",
    "- Note: Version 1.3 is the last version that will support CentOS/RedHat 6 or \n",
    "        Ubuntu 12.04. Future versions will require CentOS/RedHat 7 or newer, or \n",
    "        Ubuntu 14.04 or newer.\n",
    "```"
   ]
  },
  {
   "cell_type": "markdown",
   "metadata": {},
   "source": [
    "```bash\n",
    "LOCAL=$(realpath ~/data)\n",
    "LOCALSOURCE=$LOCAL/source_files\n",
    "LOCALBIN=$LOCAL/local\n",
    "\n",
    "# Below two lines assume that directories don't exist\n",
    "mkdir -p $LOCALSOURCE # Make a directory to store .tar.gz file\n",
    "mkdir -p $LOCALBIN # Make a directory to store locally installed packages/softwares\n",
    "\n",
    "# Always get an updated download link from below:\n",
    "# https://support.10xgenomics.com/spatial-gene-expression/software/downloads/latest\n",
    "wget -O $LOCALSOURCE/spaceranger-1.3.1.tar.gz \"https://cf.10xgenomics.com/releases/spatial-exp/spaceranger-1.3.1.tar.gz?Expires=1649214425&Policy=eyJTdGF0ZW1lbnQiOlt7IlJlc291cmNlIjoiaHR0cHM6Ly9jZi4xMHhnZW5vbWljcy5jb20vcmVsZWFzZXMvc3BhdGlhbC1leHAvc3BhY2VyYW5nZXItMS4zLjEudGFyLmd6IiwiQ29uZGl0aW9uIjp7IkRhdGVMZXNzVGhhbiI6eyJBV1M6RXBvY2hUaW1lIjoxNjQ5MjE0NDI1fX19XX0_&Signature=okfVjpy~mx1NuUK0hY~~ttQ-nu3t1QDPJYPKfQ9Khw2de7HJOrDEk37B0eUW5HmxzfpX639mG-qOrBZRY3rqqNfW5-wuXXyXnq~pbiurN2rCN21PDdLxeK9iNwvitPzmcCnlyfoKNaXV6koK1pyUwAm2fOFhyj9hjXwZhae8AyghKJy8MlF062MJ7UKibYN4qPZoCXDN5PwiSVxWVvR14DpxgP1z~i6qhbmllk5N7SDoxeSN8XLyH7PfMVBahDJomhTKOLNJrEe-C80KvjrOwvV4V5j9J~mVXtCko6aiStjstgpDT8bO8Hr0XfK1~XEfHYapFnda1YiD2UMxqSJK5g__&Key-Pair-Id=APKAI7S6A5RYOXBWRPDA\"\n",
    "\n",
    "# Extract the downloadded .tar.gz file to LOCALBIN\n",
    "tar -xzvf $LOCALSOURCE/spaceranger-1.3.1.tar.gz -C $LOCALBIN\n",
    "\n",
    "# Add below spaceranger path to PATH\n",
    "export PATH=$LOCALBIN/spaceranger-1.3.1:$PATH\n",
    "\n",
    "# Verify installation\n",
    "spaceranger testrun --id=tiny\n",
    "```\n",
    "---"
   ]
  },
  {
   "cell_type": "markdown",
   "metadata": {
    "tags": []
   },
   "source": [
    "# 2. Dependencies"
   ]
  },
  {
   "cell_type": "markdown",
   "metadata": {},
   "source": [
    "10x has reference packages available for a human/mouse. If not, you can try to follow the build steps highlighted below:\n",
    "\n",
    "https://support.10xgenomics.com/single-cell-gene-expression/software/release-notes/build"
   ]
  },
  {
   "cell_type": "markdown",
   "metadata": {
    "tags": []
   },
   "source": [
    "```bash\n",
    "# Create a directory to store dependency files\n",
    "LOCAL=$(realpath ~/data)\n",
    "WORKDIR=$LOCAL/sr_workdir\n",
    "mkdir -p $WORKDIR\n",
    "\n",
    "# Download fasta\n",
    "wget -P $WORKDIR http://ftp.ensembl.org/pub/release-105/fasta/rattus_norvegicus/dna/Rattus_norvegicus.mRatBN7.2.dna.toplevel.fa.gz\n",
    "gunzip $WORKDIR/Rattus_norvegicus.mRatBN7.2.dna.toplevel.fa.gz\n",
    " \n",
    "# Download GTF\n",
    "wget -P $WORKDIR http://ftp.ensembl.org/pub/release-105/gtf/rattus_norvegicus/Rattus_norvegicus.mRatBN7.2.105.gtf.gz\n",
    "gunzip $WORKDIR/Rattus_norvegicus.mRatBN7.2.105.gtf.gz\n",
    "```\n",
    "---"
   ]
  },
  {
   "cell_type": "markdown",
   "metadata": {},
   "source": [
    "Before creating a reference package required for `spaceranger`, the input `.fasta` file requires a small modification in the headers. Below is the description of the process:\n",
    "\n",
    "```\n",
    "# Modify sequence headers in the Ensembl FASTA to match the file\n",
    "# \"GRCm38.primary_assembly.genome.fa\" from GENCODE. Unplaced and unlocalized\n",
    "# sequences such as \"GL456210.1\" have the same names in both versions.\n",
    "#\n",
    "# Input FASTA:\n",
    "#   >1 dna:chromosome chromosome:GRCm38:1:1:195471971:1 REF\n",
    "#\n",
    "# Output FASTA:\n",
    "#   >chr1 1\n",
    "```"
   ]
  },
  {
   "cell_type": "markdown",
   "metadata": {},
   "source": [
    "```bash\n",
    "# sed commands:\n",
    "# 1. Replace metadata after space with original contig name, as in GENCODE\n",
    "# 2. Add \"chr\" to names of autosomes and sex chromosomes\n",
    "# 3. Handle the mitochrondrial chromosome\n",
    "\n",
    "cat $WORKDIR/Rattus_norvegicus.mRatBN7.2.dna.toplevel.fa \\\n",
    "    | sed -E 's/^>(\\S+).*/>\\1 \\1/' \\\n",
    "    | sed -E 's/^>([0-9]+|[XY]) />chr\\1 /' \\\n",
    "    | sed -E 's/^>MT />chrM /' \\\n",
    "    > $WORKDIR/Rattus_norvegicus.mRatBN7.2.dna.toplevel.modified.fa\n",
    "```\n",
    "---"
   ]
  },
  {
   "cell_type": "markdown",
   "metadata": {},
   "source": [
    "The `.gtf` file downloaded above seems to adhere to the format that `spaceranger` would like it to be prior to running the analysis. Specifically, the documentation attempts to do the following for `.gtf` files that requires formatting:\n",
    "```\n",
    "# Remove version suffix from transcript, gene, and exon IDs in order to match\n",
    "# previous Cell Ranger reference packages\n",
    "#\n",
    "# Input GTF:\n",
    "#     ... gene_id \"ENSMUSG00000102693.1\"; ...\n",
    "# Output GTF:\n",
    "#     ... gene_id \"ENSMUSG00000102693\"; gene_version \"1\"; ...\n",
    "```\n",
    "\n",
    "Since formatting is taken care of, we now filter out entries that is not needed in the analysis (as per 10x Genomics)"
   ]
  },
  {
   "cell_type": "markdown",
   "metadata": {},
   "source": [
    "```bash\n",
    "\n",
    "BIOTYPE_PATTERN=\\\n",
    "\"(protein_coding|lncRNA|\\\n",
    "IG_C_gene|IG_D_gene|IG_J_gene|IG_LV_gene|IG_V_gene|\\\n",
    "IG_V_pseudogene|IG_J_pseudogene|IG_C_pseudogene|\\\n",
    "TR_C_gene|TR_D_gene|TR_J_gene|TR_V_gene|\\\n",
    "TR_V_pseudogene|TR_J_pseudogene)\"\n",
    "GENE_PATTERN=\"gene_type \\\"${BIOTYPE_PATTERN}\\\"\"\n",
    "TX_PATTERN=\"transcript_type \\\"${BIOTYPE_PATTERN}\\\"\"\n",
    "READTHROUGH_PATTERN=\"tag \\\"readthrough_transcript\\\"\"\n",
    "\n",
    "LOCAL=$(realpath ~/data)\n",
    "WORKDIR=$LOCAL/sr_workdir\n",
    "\n",
    "\n",
    "cat $WORKDIR/Rattus_norvegicus.mRatBN7.2.105.gtf \\\n",
    "    | awk '$3 == \"transcript\"' \\\n",
    "    | grep -E \"$GENE_PATTERN\" \\\n",
    "    | grep -E \"$TX_PATTERN\" \\\n",
    "    | grep -Ev \"$READTHROUGH_PATTERN\" \\\n",
    "    | sed -E 's/.*(gene_id \"[^\"]+\").*/\\1/' \\\n",
    "    | sort \\\n",
    "    | uniq \\\n",
    "    > $WORKDIR/Rattus_norvegicus.mRatBN7.2.105.gene_allowlist\n",
    "\n",
    "# Copy header lines beginning with \"#\"\n",
    "grep -E \"^#\" $WORKDIR/Rattus_norvegicus.mRatBN7.2.105.gtf > $WORKDIR/Rattus_norvegicus.mRatBN7.2.105.filtered.gtf\n",
    "\n",
    "# Filter to the gene allowlist\n",
    "grep -Ff $WORKDIR/Rattus_norvegicus.mRatBN7.2.105.gene_allowlist \\\n",
    "         $WORKDIR/Rattus_norvegicus.mRatBN7.2.105.gtf \\\n",
    "         >> $WORKDIR/Rattus_norvegicus.mRatBN7.2.105.filtered.gtf\n",
    "```\n",
    "---"
   ]
  },
  {
   "cell_type": "markdown",
   "metadata": {},
   "source": [
    "Once above filtering steps are done, run `spaceranger` to generate the reference file."
   ]
  },
  {
   "cell_type": "markdown",
   "metadata": {},
   "source": [
    "```bash\n",
    "# Create reference package\n",
    "spaceranger mkref --genome=mRatBN7.2.105 \\\n",
    "    --fasta=Rattus_norvegicus.mRatBN7.2.dna.toplevel.modified.fa \\\n",
    "    --genes=Rattus_norvegicus.mRatBN7.2.105.filtered.gtf\n",
    "```\n",
    "---"
   ]
  },
  {
   "cell_type": "markdown",
   "metadata": {},
   "source": [
    "# 3. Preparing PBS script"
   ]
  },
  {
   "cell_type": "markdown",
   "metadata": {},
   "source": [
    "Once the reference package has been downloaded/created, you are ready to run `spaceranger`. Below is the example command:"
   ]
  },
  {
   "cell_type": "markdown",
   "metadata": {},
   "source": [
    "```\n",
    "LOCAL=$(realpath ~/data)\n",
    "\n",
    "spaceranger count \\\n",
    "\t--id=[run_id] \\\n",
    "\t--slide=[slide_id] \\\n",
    "\t--transcriptome=$LOCAL/sr_workdir/mRatBN7.2.105 \\\n",
    "\t--fastqs=[path-to-fastq-file-directory] --sample=[sample-name] \\\n",
    "\t--image=[sample-slide-image].tif \\\n",
    "\t--loupe-alignment=[cloupe-alignment].json \\\n",
    "\t--area=[A1, B1, etc]\n",
    "```"
   ]
  },
  {
   "cell_type": "markdown",
   "metadata": {},
   "source": [
    "If you want to query multiple jobs using a PBS script rather than running it via an interactive session, follow the template below to create a `.pbs` file:"
   ]
  },
  {
   "cell_type": "markdown",
   "metadata": {},
   "source": [
    "```bash\n",
    "#PBS -N JM_spaceranger_count\n",
    "#PBS -l nodes=1:ppn=5\n",
    "#PBS -l mem=8gb\n",
    "#PBS -l walltime=05:30:00\n",
    "#PBS -q hive\n",
    "#PBS -k oe\n",
    "\n",
    "LOCAL=$(realpath ~/data)\n",
    "LOCALBIN=$LOCAL/local\n",
    "SRPATH=$LOCALBIN/spaceranger-1.3.1\n",
    "\n",
    "spaceranger count \\\n",
    "    --transcriptome=$LOCAL/sr_workdir/mRatBN7.2.105 \\\n",
    "    --id=$run_id \\\n",
    "    --slide=$slide_id \\\n",
    "    --fastqs=$fastq_dir \\\n",
    "    --sample=$sample \\\n",
    "    --image=$image \\\n",
    "    --loupe-alignment=$loupe \\\n",
    "    --area=$area\n",
    "```\n",
    "---"
   ]
  },
  {
   "cell_type": "markdown",
   "metadata": {},
   "source": [
    "For detailed information on customizing a PBS script, refer to PACE documentation: https://docs.pace.gatech.edu/software/PBS_script_guide/.\n",
    "\n",
    "Every input argument except `--transcriptome` (rat reference files) is required when running the above PBS script. Example is shown below:"
   ]
  },
  {
   "cell_type": "markdown",
   "metadata": {},
   "source": [
    "```bash\n",
    "qsub -d ./ -v run_id=sr_count_JM04_1_220217,slide_id=V11L12-118,fastq_dir=./fastq,sample=JM04_1,image=a1_Composite.tif,loupe=V11L12-118-A1.json,area=A1 re_helper.pbs\n",
    "```"
   ]
  }
 ],
 "metadata": {
  "kernelspec": {
   "display_name": "Python 3 (ipykernel)",
   "language": "python",
   "name": "python3"
  },
  "language_info": {
   "codemirror_mode": {
    "name": "ipython",
    "version": 3
   },
   "file_extension": ".py",
   "mimetype": "text/x-python",
   "name": "python",
   "nbconvert_exporter": "python",
   "pygments_lexer": "ipython3",
   "version": "3.10.4"
  }
 },
 "nbformat": 4,
 "nbformat_minor": 4
}
